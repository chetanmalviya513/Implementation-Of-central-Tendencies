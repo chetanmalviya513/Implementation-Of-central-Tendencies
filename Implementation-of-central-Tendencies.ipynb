{
 "cells": [
  {
   "cell_type": "code",
   "execution_count": 6,
   "id": "9bf845e9",
   "metadata": {},
   "outputs": [],
   "source": [
    "#import the required packages\n",
    "import pandas as pd\n",
    "import numpy as np"
   ]
  },
  {
   "cell_type": "code",
   "execution_count": 5,
   "id": "22e68fde",
   "metadata": {},
   "outputs": [
    {
     "name": "stdout",
     "output_type": "stream",
     "text": [
      "    S.No.  MTE (25)  Mini Project (25)  Total (50)  ETE (50)  Total\n",
      "0       1      5.00                 20       25.00      12.0  37.00\n",
      "1       2     11.05                 20       31.05      26.0  57.05\n",
      "2       3      8.10                 20       28.10      14.0  42.10\n",
      "3       4      6.00                 10       16.00      13.0  29.00\n",
      "4       5     11.35                 20       31.35      17.0  48.35\n",
      "..    ...       ...                ...         ...       ...    ...\n",
      "74     75     12.05                 10       22.05      20.0  42.05\n",
      "75     76     12.25                 10       22.25      28.0  50.25\n",
      "76     77      1.75                 10       11.75       NaN   0.00\n",
      "77     78      3.00                 10       13.00       NaN   0.00\n",
      "78     79      5.80                 10       15.80      12.0  27.80\n",
      "\n",
      "[79 rows x 6 columns]\n"
     ]
    }
   ],
   "source": [
    "path = \"IBM-313 Marks.csv\"\n",
    "table = pd.read_csv(path)\n",
    "print(table)"
   ]
  },
  {
   "cell_type": "markdown",
   "id": "11a922fe",
   "metadata": {},
   "source": [
    "Mean"
   ]
  },
  {
   "cell_type": "code",
   "execution_count": 96,
   "id": "48395934",
   "metadata": {},
   "outputs": [
    {
     "data": {
      "text/plain": [
       "46.90632911392405"
      ]
     },
     "execution_count": 96,
     "metadata": {},
     "output_type": "execute_result"
    }
   ],
   "source": [
    "x = table[\"Total\"]\n",
    "np.mean(x)\n",
    "#np.sum(x)\n"
   ]
  },
  {
   "cell_type": "markdown",
   "id": "c14ea265",
   "metadata": {},
   "source": [
    "Median"
   ]
  },
  {
   "cell_type": "code",
   "execution_count": 12,
   "id": "8ffd3b56",
   "metadata": {},
   "outputs": [
    {
     "data": {
      "text/plain": [
       "45.0"
      ]
     },
     "execution_count": 12,
     "metadata": {},
     "output_type": "execute_result"
    }
   ],
   "source": [
    "np.median(x)"
   ]
  },
  {
   "cell_type": "markdown",
   "id": "01012ade",
   "metadata": {},
   "source": [
    " Mode"
   ]
  },
  {
   "cell_type": "code",
   "execution_count": 14,
   "id": "6f1a2d95",
   "metadata": {},
   "outputs": [
    {
     "name": "stderr",
     "output_type": "stream",
     "text": [
      "C:\\Users\\hp\\AppData\\Local\\Temp\\ipykernel_4444\\251653564.py:3: FutureWarning: Unlike other reduction functions (e.g. `skew`, `kurtosis`), the default behavior of `mode` typically preserves the axis it acts along. In SciPy 1.11.0, this behavior will change: the default value of `keepdims` will become False, the `axis` over which the statistic is taken will be eliminated, and the value None will no longer be accepted. Set `keepdims` to True or False to avoid this warning.\n",
      "  stats.mode(x)\n"
     ]
    },
    {
     "data": {
      "text/plain": [
       "ModeResult(mode=array([0.]), count=array([2]))"
      ]
     },
     "execution_count": 14,
     "metadata": {},
     "output_type": "execute_result"
    }
   ],
   "source": [
    "import scipy\n",
    "from scipy import stats\n",
    "stats.mode(x)"
   ]
  },
  {
   "cell_type": "markdown",
   "id": "2817fdc5",
   "metadata": {},
   "source": [
    "Percentile"
   ]
  },
  {
   "cell_type": "code",
   "execution_count": 17,
   "id": "bd9718be",
   "metadata": {},
   "outputs": [
    {
     "name": "stdout",
     "output_type": "stream",
     "text": [
      "3.0\n"
     ]
    }
   ],
   "source": [
    "a = np.array([1,2,3,4,5])\n",
    "p = np.percentile(a,50) # return 50th percentile , e.g. median\n",
    "print(p)"
   ]
  },
  {
   "cell_type": "markdown",
   "id": "945710ac",
   "metadata": {},
   "source": [
    "Example of for loop"
   ]
  },
  {
   "cell_type": "code",
   "execution_count": 19,
   "id": "b363ad7c",
   "metadata": {},
   "outputs": [
    {
     "name": "stdout",
     "output_type": "stream",
     "text": [
      "['Shivance', 23, 4.9]\n"
     ]
    }
   ],
   "source": [
    " l = [\"Shivance\",23,4.9]\n",
    "print(l)"
   ]
  },
  {
   "cell_type": "code",
   "execution_count": 21,
   "id": "81dc834e",
   "metadata": {},
   "outputs": [
    {
     "name": "stdout",
     "output_type": "stream",
     "text": [
      "Shivance\n",
      "23\n",
      "4.9\n"
     ]
    }
   ],
   "source": [
    "for i in l:\n",
    "    print(i)"
   ]
  },
  {
   "cell_type": "markdown",
   "id": "ea0ccb81",
   "metadata": {},
   "source": [
    "Range"
   ]
  },
  {
   "cell_type": "code",
   "execution_count": 26,
   "id": "195bde05",
   "metadata": {},
   "outputs": [
    {
     "name": "stdout",
     "output_type": "stream",
     "text": [
      "10\n",
      "12\n",
      "14\n",
      "16\n",
      "18\n"
     ]
    }
   ],
   "source": [
    "for i in range(10,20,2):print(i)"
   ]
  },
  {
   "cell_type": "code",
   "execution_count": 41,
   "id": "74930d03",
   "metadata": {},
   "outputs": [
    {
     "name": "stdout",
     "output_type": "stream",
     "text": [
      "1,3,5,7,9,11,13,15,17,19,"
     ]
    }
   ],
   "source": [
    "#i = []\n",
    "for i in range(1,20,2):\n",
    "    print(i,end=\",\")\n",
    "    #print(list(str(i)))\n"
   ]
  },
  {
   "cell_type": "markdown",
   "id": "a8ce7f5a",
   "metadata": {},
   "source": [
    "Function in Python"
   ]
  },
  {
   "cell_type": "code",
   "execution_count": 43,
   "id": "3f185e0b",
   "metadata": {},
   "outputs": [
    {
     "name": "stdout",
     "output_type": "stream",
     "text": [
      "Hello\n",
      "Shivace\n"
     ]
    }
   ],
   "source": [
    "def greet():\n",
    "    print(\"Hello\")\n",
    "    print(\"Shivace\")\n",
    "greet()"
   ]
  },
  {
   "cell_type": "code",
   "execution_count": 49,
   "id": "bbe255ef",
   "metadata": {},
   "outputs": [
    {
     "name": "stdout",
     "output_type": "stream",
     "text": [
      "Enter First number : 45\n",
      "Enter Second number : 85\n",
      "130\n"
     ]
    }
   ],
   "source": [
    "def add(a,b):\n",
    "    a = int(input(\"Enter First number : \"))\n",
    "    b = int(input(\"Enter Second number : \"))\n",
    "    c = a+b\n",
    "    print(c)\n",
    "add(5,10)"
   ]
  },
  {
   "cell_type": "markdown",
   "id": "577902ca",
   "metadata": {},
   "source": [
    "Finding minimum and maximum value"
   ]
  },
  {
   "cell_type": "code",
   "execution_count": 56,
   "id": "2a18d162",
   "metadata": {},
   "outputs": [
    {
     "data": {
      "text/plain": [
       "(3, 6787)"
      ]
     },
     "execution_count": 56,
     "metadata": {},
     "output_type": "execute_result"
    }
   ],
   "source": [
    "data = [3,4,55,566,3,5,5,6,33,56,6787,78,55,342]\n",
    "min(data) ,max(data)"
   ]
  },
  {
   "cell_type": "code",
   "execution_count": 58,
   "id": "ca984c0b",
   "metadata": {},
   "outputs": [],
   "source": [
    "data = [2,4,5,66,33,4566,2,445,35,55,33,44,5667]\n",
    "def min_and_max(data):\n",
    "    min_val = min(data)\n",
    "    max_val = max(data)\n",
    "    return (min_val,max_val)\n"
   ]
  },
  {
   "cell_type": "code",
   "execution_count": 60,
   "id": "9e0bc39c",
   "metadata": {},
   "outputs": [
    {
     "data": {
      "text/plain": [
       "(2, 5667)"
      ]
     },
     "execution_count": 60,
     "metadata": {},
     "output_type": "execute_result"
    }
   ],
   "source": [
    "min_and_max(data)"
   ]
  },
  {
   "cell_type": "code",
   "execution_count": 64,
   "id": "05b4e39e",
   "metadata": {},
   "outputs": [
    {
     "data": {
      "text/plain": [
       "5665"
      ]
     },
     "execution_count": 64,
     "metadata": {},
     "output_type": "execute_result"
    }
   ],
   "source": [
    "def rangea(data):\n",
    "    min_val = min(data)\n",
    "    max_val= max(data)\n",
    "    \n",
    "    #return(min_val - max_val)\n",
    "    return(max_val - min_val)\n",
    "rangea(data)\n",
    "rangea(data)"
   ]
  },
  {
   "cell_type": "markdown",
   "id": "8077716e",
   "metadata": {},
   "source": [
    "Quartile"
   ]
  },
  {
   "cell_type": "code",
   "execution_count": 83,
   "id": "04559104",
   "metadata": {},
   "outputs": [
    {
     "name": "stdout",
     "output_type": "stream",
     "text": [
      "2.2\n"
     ]
    }
   ],
   "source": [
    "a = [1,2,3,4,5,6,7]\n",
    "q1 = np.percentile(a,20) #return 25th percentile\n",
    "#w1= q1 = np.sum(a)\n",
    "#print(w1*25/100)\n",
    "print(q1)"
   ]
  },
  {
   "cell_type": "code",
   "execution_count": 84,
   "id": "a500b4e9",
   "metadata": {},
   "outputs": [
    {
     "name": "stdout",
     "output_type": "stream",
     "text": [
      "3.0\n"
     ]
    }
   ],
   "source": [
    "a = np.array([1,2,3,4,5])\n",
    "q2 = np.percentile(a,50) # return 50th percentile\n",
    "print(q2)"
   ]
  },
  {
   "cell_type": "code",
   "execution_count": 89,
   "id": "34995469",
   "metadata": {},
   "outputs": [
    {
     "name": "stdout",
     "output_type": "stream",
     "text": [
      "4.0\n"
     ]
    }
   ],
   "source": [
    "a = np.array([1,2,3,4,5])\n",
    "q3 = np.percentile(a,75) # return 75th percentile\n",
    "print(q3)"
   ]
  },
  {
   "cell_type": "markdown",
   "id": "108ba616",
   "metadata": {},
   "source": [
    "Inter quartile range"
   ]
  },
  {
   "cell_type": "code",
   "execution_count": 90,
   "id": "9a6f6d8b",
   "metadata": {},
   "outputs": [
    {
     "data": {
      "text/plain": [
       "1.7999999999999998"
      ]
     },
     "execution_count": 90,
     "metadata": {},
     "output_type": "execute_result"
    }
   ],
   "source": [
    "IQ = q3 - q1\n",
    "IQ"
   ]
  },
  {
   "cell_type": "markdown",
   "id": "3060aad8",
   "metadata": {},
   "source": [
    "Variance"
   ]
  },
  {
   "cell_type": "code",
   "execution_count": 91,
   "id": "66fa5b1b",
   "metadata": {},
   "outputs": [
    {
     "data": {
      "text/plain": [
       "262.78147892965876"
      ]
     },
     "execution_count": 91,
     "metadata": {},
     "output_type": "execute_result"
    }
   ],
   "source": [
    "np.var(x) # x is population Variance -  total of table coloum "
   ]
  },
  {
   "cell_type": "markdown",
   "id": "ee2adb93",
   "metadata": {},
   "source": [
    "Population standard Deviation "
   ]
  },
  {
   "cell_type": "code",
   "execution_count": 100,
   "id": "8ff981ce",
   "metadata": {},
   "outputs": [
    {
     "data": {
      "text/plain": [
       "16.210536046955966"
      ]
     },
     "execution_count": 100,
     "metadata": {},
     "output_type": "execute_result"
    }
   ],
   "source": [
    "import statistics\n",
    "statistics.pstdev(x)"
   ]
  },
  {
   "cell_type": "markdown",
   "id": "f53e22a4",
   "metadata": {},
   "source": [
    "sample standard Deviation"
   ]
  },
  {
   "cell_type": "code",
   "execution_count": 101,
   "id": "45f6d75b",
   "metadata": {},
   "outputs": [
    {
     "data": {
      "text/plain": [
       "16.31411880088133"
      ]
     },
     "execution_count": 101,
     "metadata": {},
     "output_type": "execute_result"
    }
   ],
   "source": [
    "statistics.stdev(x)"
   ]
  },
  {
   "cell_type": "markdown",
   "id": "a5c59690",
   "metadata": {},
   "source": [
    "Standard deviation"
   ]
  },
  {
   "cell_type": "code",
   "execution_count": 102,
   "id": "f5baec89",
   "metadata": {},
   "outputs": [
    {
     "data": {
      "text/plain": [
       "16.210536046955966"
      ]
     },
     "execution_count": 102,
     "metadata": {},
     "output_type": "execute_result"
    }
   ],
   "source": [
    "np.std(x)"
   ]
  },
  {
   "cell_type": "markdown",
   "id": "c8faa2f2",
   "metadata": {},
   "source": [
    "Skewness"
   ]
  },
  {
   "cell_type": "code",
   "execution_count": 104,
   "id": "37a40aa5",
   "metadata": {},
   "outputs": [],
   "source": [
    "from scipy.stats import skew\n"
   ]
  },
  {
   "cell_type": "code",
   "execution_count": 105,
   "id": "4c9e811c",
   "metadata": {},
   "outputs": [
    {
     "data": {
      "text/plain": [
       "0.10226407464884266"
      ]
     },
     "execution_count": 105,
     "metadata": {},
     "output_type": "execute_result"
    }
   ],
   "source": [
    "skew(x)"
   ]
  },
  {
   "cell_type": "markdown",
   "id": "054c14fa",
   "metadata": {},
   "source": [
    "Box Plot"
   ]
  },
  {
   "cell_type": "code",
   "execution_count": 108,
   "id": "7850506f",
   "metadata": {},
   "outputs": [
    {
     "data": {
      "image/png": "[encoded data removed]",
      "text/plain": [
       "<Figure size 640x480 with 1 Axes>"
      ]
     },
     "metadata": {},
     "output_type": "display_data"
    }
   ],
   "source": [
    "from matplotlib import pyplot as plt\n",
    "plt.boxplot(x,sym=\"*\" )\n",
    "plt.show()"
   ]
  }
 ],
 "metadata": {
  "kernelspec": {
   "display_name": "Python 3 (ipykernel)",
   "language": "python",
   "name": "python3"
  },
  "language_info": {
   "codemirror_mode": {
    "name": "ipython",
    "version": 3
   },
   "file_extension": ".py",
   "mimetype": "text/x-python",
   "name": "python",
   "nbconvert_exporter": "python",
   "pygments_lexer": "ipython3",
   "version": "3.9.13"
  }
 },
 "nbformat": 4,
 "nbformat_minor": 5
}
